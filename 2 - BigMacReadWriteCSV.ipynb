{
 "cells": [
  {
   "attachments": {},
   "cell_type": "markdown",
   "metadata": {},
   "source": [
    "# Big Mac CSV Activities\n",
    "I have provided you with a very small amount of the original big mac data dataset in a .csv file. Use it to complete all the activities in this notebook."
   ]
  },
  {
   "cell_type": "code",
   "execution_count": 7,
   "metadata": {},
   "outputs": [
    {
     "data": {
      "text/html": [
       "<div>\n",
       "<style scoped>\n",
       "    .dataframe tbody tr th:only-of-type {\n",
       "        vertical-align: middle;\n",
       "    }\n",
       "\n",
       "    .dataframe tbody tr th {\n",
       "        vertical-align: top;\n",
       "    }\n",
       "\n",
       "    .dataframe thead th {\n",
       "        text-align: right;\n",
       "    }\n",
       "</style>\n",
       "<table border=\"1\" class=\"dataframe\">\n",
       "  <thead>\n",
       "    <tr style=\"text-align: right;\">\n",
       "      <th></th>\n",
       "      <th>Country</th>\n",
       "      <th>Local</th>\n",
       "      <th>AUD</th>\n",
       "      <th>date</th>\n",
       "    </tr>\n",
       "  </thead>\n",
       "  <tbody>\n",
       "    <tr>\n",
       "      <th>0</th>\n",
       "      <td>Australia</td>\n",
       "      <td>7.45</td>\n",
       "      <td>7.45</td>\n",
       "      <td>1/07/2023</td>\n",
       "    </tr>\n",
       "    <tr>\n",
       "      <th>1</th>\n",
       "      <td>Britain</td>\n",
       "      <td>4.19</td>\n",
       "      <td>8.05</td>\n",
       "      <td>1/07/2023</td>\n",
       "    </tr>\n",
       "    <tr>\n",
       "      <th>2</th>\n",
       "      <td>Japan</td>\n",
       "      <td>450.00</td>\n",
       "      <td>4.52</td>\n",
       "      <td>1/07/2023</td>\n",
       "    </tr>\n",
       "    <tr>\n",
       "      <th>3</th>\n",
       "      <td>New Zealand</td>\n",
       "      <td>8.10</td>\n",
       "      <td>6.50</td>\n",
       "      <td>1/07/2023</td>\n",
       "    </tr>\n",
       "    <tr>\n",
       "      <th>4</th>\n",
       "      <td>United States</td>\n",
       "      <td>5.58</td>\n",
       "      <td>8.50</td>\n",
       "      <td>1/07/2023</td>\n",
       "    </tr>\n",
       "  </tbody>\n",
       "</table>\n",
       "</div>"
      ],
      "text/plain": [
       "         Country   Local   AUD       date\n",
       "0      Australia    7.45  7.45  1/07/2023\n",
       "1        Britain    4.19  8.05  1/07/2023\n",
       "2          Japan  450.00  4.52  1/07/2023\n",
       "3    New Zealand    8.10  6.50  1/07/2023\n",
       "4  United States    5.58  8.50  1/07/2023"
      ]
     },
     "execution_count": 7,
     "metadata": {},
     "output_type": "execute_result"
    }
   ],
   "source": [
    "import pandas as pd\n",
    "\n",
    "#Read in the big_mac_aud.csv file and store it as big_mac_df. Add the headings 'Country', 'Local', 'AUD' and 'Date'\n",
    "big_mac_df = pd.read_csv('data/big_mac_aud.csv',\n",
    "                         header= None,\n",
    "                         names= [\"Country\", \"Local\", \"AUD\", \"date\" ])\n",
    "\n",
    "\n",
    "#Output the big_mac_df\n",
    "big_mac_df"
   ]
  },
  {
   "attachments": {},
   "cell_type": "markdown",
   "metadata": {},
   "source": [
    "## Add More Rows\n",
    "\n",
    "I want to add France to the above dataframe. The cost is 5.30 EUROs. You'll need to do the conversion for AUD.\n",
    "\n",
    "For information on how to add a row to a dataframe, read through the instructions on [How to Add New Rows to a Pandas Dataframe](https://saturncloud.io/blog/how-to-add-new-rows-to-a-pandas-dataframe/)\n",
    "\n",
    "**NOTE:** Inbetween each test, make sure to *Clear All Outputs* and *Run All* (options at the top of the screen)."
   ]
  },
  {
   "cell_type": "code",
   "execution_count": 8,
   "metadata": {},
   "outputs": [],
   "source": [
    "#Create a new row as a dictionary called 'new_row'\n",
    "\n",
    "\n",
    "#Add the row to big_mac_df with either the append or loc function\n",
    "\n",
    "\n",
    "#Print the dataframe\n"
   ]
  },
  {
   "attachments": {},
   "cell_type": "markdown",
   "metadata": {},
   "source": [
    "## Write to .csv File\n",
    "Now that we've updated the data, let's write a new .csv file reflecting the changes. \n",
    "\n",
    "**NOTE:** It should not create multiple files if you keep running this, but just remember to *Clear All Outputs* inbetween each test to avoid adding France more than once. "
   ]
  },
  {
   "cell_type": "code",
   "execution_count": 9,
   "metadata": {},
   "outputs": [],
   "source": [
    "#Write the big_mac_df big_mac_update.csv in the data folder. Do not include indexes.\n"
   ]
  }
 ],
 "metadata": {
  "kernelspec": {
   "display_name": "Python 3",
   "language": "python",
   "name": "python3"
  },
  "language_info": {
   "codemirror_mode": {
    "name": "ipython",
    "version": 3
   },
   "file_extension": ".py",
   "mimetype": "text/x-python",
   "name": "python",
   "nbconvert_exporter": "python",
   "pygments_lexer": "ipython3",
   "version": "3.12.8"
  },
  "orig_nbformat": 4
 },
 "nbformat": 4,
 "nbformat_minor": 2
}
